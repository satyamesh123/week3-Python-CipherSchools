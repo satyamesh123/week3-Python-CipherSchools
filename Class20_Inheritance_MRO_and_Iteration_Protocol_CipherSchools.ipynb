{
  "cells": [
    {
      "cell_type": "code",
      "execution_count": 1,
      "metadata": {
        "id": "_8Q-uG_kc9cq"
      },
      "outputs": [],
      "source": [
        "# inheritance"
      ]
    },
    {
      "cell_type": "code",
      "execution_count": 2,
      "metadata": {
        "id": "NOs23hcDc_Xf"
      },
      "outputs": [],
      "source": [
        "class A:\n",
        "    def __init__(self):\n",
        "        print(\"A init executed\")\n",
        "\n",
        "class B(A):\n",
        "    def __init__(self):\n",
        "        super().__init__()\n",
        "        print(\"B init executed\")"
      ]
    },
    {
      "cell_type": "code",
      "execution_count": 3,
      "metadata": {
        "colab": {
          "base_uri": "https://localhost:8080/"
        },
        "id": "8giWNfQcc_aQ",
        "outputId": "051ec4ae-37fe-4539-9994-7743ea650725"
      },
      "outputs": [
        {
          "name": "stdout",
          "output_type": "stream",
          "text": [
            "A init executed\n",
            "B init executed\n"
          ]
        }
      ],
      "source": [
        "abc = B()"
      ]
    },
    {
      "cell_type": "code",
      "execution_count": 4,
      "metadata": {
        "id": "entcK3w5c_dH"
      },
      "outputs": [],
      "source": [
        "# MRO (Method Resolution Order)"
      ]
    },
    {
      "cell_type": "code",
      "execution_count": 5,
      "metadata": {
        "id": "RMe6ggb8c_ft"
      },
      "outputs": [],
      "source": [
        "class A:\n",
        "    pass\n",
        "\n",
        "class B(A):\n",
        "    x = 5\n",
        "\n",
        "class C(B):\n",
        "    pass\n",
        "\n",
        "class D(A):\n",
        "    x = 10\n",
        "\n",
        "class E(C, D):\n",
        "    pass"
      ]
    },
    {
      "cell_type": "code",
      "execution_count": 6,
      "metadata": {
        "id": "7IF2_lpCc_iU"
      },
      "outputs": [],
      "source": [
        "e = E()"
      ]
    },
    {
      "cell_type": "code",
      "execution_count": 7,
      "metadata": {
        "colab": {
          "base_uri": "https://localhost:8080/"
        },
        "id": "-BovIck2c_lc",
        "outputId": "22ec7cbf-f9b8-4f90-feeb-9a4305bc8e6e"
      },
      "outputs": [
        {
          "name": "stdout",
          "output_type": "stream",
          "text": [
            "5\n"
          ]
        }
      ],
      "source": [
        "print(e.x)"
      ]
    },
    {
      "cell_type": "code",
      "execution_count": 8,
      "metadata": {
        "id": "dqtZrMClc_oU"
      },
      "outputs": [],
      "source": [
        "# DFS\n",
        "# if there is a loop solve branches differently"
      ]
    },
    {
      "cell_type": "code",
      "execution_count": 9,
      "metadata": {
        "id": "8hy7YyXrc_re"
      },
      "outputs": [],
      "source": [
        "# Iteration Protocol\n",
        "\n",
        "# For any object to be an Iterable, it should have 2 dunders\n",
        "# 1. __iter__\n",
        "# 2. __next__\n",
        "\n",
        "# Protocol\n",
        "# Object's __iter__ method Should return an iterator\n",
        "# iterator __next__ method should return the new value on every cell\n",
        "# if the iterator reaches the end, it should raise an StopIteration exception"
      ]
    },
    {
      "cell_type": "code",
      "execution_count": 10,
      "metadata": {
        "id": "7VGMor5Ac_uF"
      },
      "outputs": [],
      "source": [
        "a = range(5)"
      ]
    },
    {
      "cell_type": "code",
      "execution_count": 11,
      "metadata": {
        "id": "UaqRZBDFc_xc"
      },
      "outputs": [],
      "source": [
        "# it = a.__iter__()\n",
        "it = iter(a)"
      ]
    },
    {
      "cell_type": "code",
      "execution_count": 12,
      "metadata": {
        "colab": {
          "base_uri": "https://localhost:8080/"
        },
        "id": "abEyMO0hc_0m",
        "outputId": "97ed7417-f197-4b31-9910-a80f9d86564f"
      },
      "outputs": [
        {
          "data": {
            "text/plain": [
              "<range_iterator at 0x7f19c54e11e0>"
            ]
          },
          "execution_count": 12,
          "metadata": {},
          "output_type": "execute_result"
        }
      ],
      "source": [
        "it"
      ]
    },
    {
      "cell_type": "code",
      "execution_count": 13,
      "metadata": {
        "colab": {
          "base_uri": "https://localhost:8080/"
        },
        "id": "VwW4Vo2Sc_3s",
        "outputId": "663a75c1-fcc3-48b1-b2a1-7fccb2550955"
      },
      "outputs": [
        {
          "data": {
            "text/plain": [
              "0"
            ]
          },
          "execution_count": 13,
          "metadata": {},
          "output_type": "execute_result"
        }
      ],
      "source": [
        "# it.__next__()\n",
        "next(it)"
      ]
    },
    {
      "cell_type": "code",
      "execution_count": 14,
      "metadata": {
        "id": "gdaR_1rwc_6j"
      },
      "outputs": [],
      "source": [
        "a = 'jatin'"
      ]
    },
    {
      "cell_type": "code",
      "execution_count": 15,
      "metadata": {
        "colab": {
          "base_uri": "https://localhost:8080/"
        },
        "id": "FrlJmjShdduX",
        "outputId": "743cd52b-af9a-441c-e940-3dd14282fbde"
      },
      "outputs": [
        {
          "data": {
            "text/plain": [
              "<str_iterator at 0x7f19c54e1a60>"
            ]
          },
          "execution_count": 15,
          "metadata": {},
          "output_type": "execute_result"
        }
      ],
      "source": [
        "iter(a)"
      ]
    },
    {
      "cell_type": "code",
      "execution_count": 16,
      "metadata": {
        "colab": {
          "base_uri": "https://localhost:8080/"
        },
        "id": "jDYYgDVgddr9",
        "outputId": "35eae4ed-d6d1-44a4-fad4-19f12ad6bba3"
      },
      "outputs": [
        {
          "name": "stdout",
          "output_type": "stream",
          "text": [
            "0\n",
            "1\n",
            "2\n",
            "3\n",
            "4\n"
          ]
        }
      ],
      "source": [
        "for i in range(5):\n",
        "    print(i)"
      ]
    },
    {
      "cell_type": "code",
      "execution_count": 17,
      "metadata": {
        "colab": {
          "base_uri": "https://localhost:8080/",
          "height": 130
        },
        "id": "ieHfHzorddpX",
        "outputId": "a2c2c69e-e130-44d7-ea0b-1852ebdc326c"
      },
      "outputs": [
        {
          "ename": "SyntaxError",
          "evalue": "ignored",
          "output_type": "error",
          "traceback": [
            "\u001b[0;36m  File \u001b[0;32m\"<ipython-input-17-96780a036751>\"\u001b[0;36m, line \u001b[0;32m22\u001b[0m\n\u001b[0;31m    In [182]:\u001b[0m\n\u001b[0m             ^\u001b[0m\n\u001b[0;31mSyntaxError\u001b[0m\u001b[0;31m:\u001b[0m invalid syntax\n"
          ]
        }
      ],
      "source": [
        "class myrange:\n",
        "    def __init__(self, n):\n",
        "        self.n = n\n",
        "\n",
        "    def __iter__(self):\n",
        "        return myrange_iterator(self)\n",
        "\n",
        "class myrange_iterator:\n",
        "    def __init__(self, myrange):\n",
        "        self.myrange = myrange\n",
        "        self.i = 0\n",
        "\n",
        "    def __next__(self):\n",
        "        ret = self.i\n",
        "        self.i += 1\n",
        "\n",
        "        if ret >= self.myrange.n:\n",
        "            raise StopIteration\n",
        "\n",
        "\n",
        "        return ret\n",
        "In [182]:\n"
      ]
    },
    {
      "cell_type": "code",
      "execution_count": 18,
      "metadata": {
        "colab": {
          "base_uri": "https://localhost:8080/",
          "height": 164
        },
        "id": "B__miGi8ddmw",
        "outputId": "628741db-c3af-4718-d26f-24a8c4fba2cf"
      },
      "outputs": [
        {
          "ename": "NameError",
          "evalue": "ignored",
          "output_type": "error",
          "traceback": [
            "\u001b[0;31m---------------------------------------------------------------------------\u001b[0m",
            "\u001b[0;31mNameError\u001b[0m                                 Traceback (most recent call last)",
            "\u001b[0;32m<ipython-input-18-44d9b4d99fe9>\u001b[0m in \u001b[0;36m<module>\u001b[0;34m\u001b[0m\n\u001b[0;32m----> 1\u001b[0;31m \u001b[0ma\u001b[0m \u001b[0;34m=\u001b[0m \u001b[0mmyrange\u001b[0m\u001b[0;34m(\u001b[0m\u001b[0;36m5\u001b[0m\u001b[0;34m)\u001b[0m\u001b[0;34m\u001b[0m\u001b[0;34m\u001b[0m\u001b[0m\n\u001b[0m",
            "\u001b[0;31mNameError\u001b[0m: name 'myrange' is not defined"
          ]
        }
      ],
      "source": [
        "a = myrange(5)"
      ]
    },
    {
      "cell_type": "code",
      "execution_count": 19,
      "metadata": {
        "id": "Xja4QVZRddka"
      },
      "outputs": [],
      "source": [
        "# for (int i =0; i<10; i++)"
      ]
    },
    {
      "cell_type": "code",
      "execution_count": 20,
      "metadata": {
        "id": "I1B3s4nGddhy"
      },
      "outputs": [],
      "source": [
        "it = iter(a)"
      ]
    },
    {
      "cell_type": "code",
      "execution_count": 21,
      "metadata": {
        "colab": {
          "base_uri": "https://localhost:8080/",
          "height": 35
        },
        "id": "_MwvSAAQdde-",
        "outputId": "0c938677-f31d-49f6-ec27-1108e7fdee5e"
      },
      "outputs": [
        {
          "data": {
            "application/vnd.google.colaboratory.intrinsic+json": {
              "type": "string"
            },
            "text/plain": [
              "'j'"
            ]
          },
          "execution_count": 21,
          "metadata": {},
          "output_type": "execute_result"
        }
      ],
      "source": [
        "next(it)"
      ]
    }
  ],
  "metadata": {
    "colab": {
      "authorship_tag": "ABX9TyODNloqYzbnjJohMuLgoD1c",
      "include_colab_link": true,
      "provenance": []
    },
    "kernelspec": {
      "display_name": "Python 3",
      "name": "python3"
    },
    "language_info": {
      "name": "python"
    }
  },
  "nbformat": 4,
  "nbformat_minor": 0
}
